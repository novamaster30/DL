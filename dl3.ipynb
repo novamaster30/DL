{
 "cells": [
  {
   "cell_type": "code",
   "execution_count": null,
   "id": "1bde9ceb",
   "metadata": {},
   "outputs": [],
   "source": [
    "\n",
    "import numpy as np\n",
    "import pandas as pd\n",
    "import matplotlib.pyplot as plt\n",
    "import tensorflow as tf\n",
    "from tensorflow.keras import layers\n",
    "    "
   ]
  },
  {
   "cell_type": "code",
   "execution_count": null,
   "id": "c7aa0fb1",
   "metadata": {},
   "outputs": [],
   "source": [
    "\n",
    "batch_size = 100\n",
    "img_height = 250\n",
    "img_width = 250\n",
    "    "
   ]
  },
  {
   "cell_type": "code",
   "execution_count": null,
   "id": "e6156ea9",
   "metadata": {},
   "outputs": [],
   "source": [
    "\n",
    "training_ds = tf.keras.preprocessing.image_dataset_from_directory(\n",
    "    'New Plant Diseases Dataset(Augmented)/train',\n",
    "    seed=42,\n",
    "    image_size=(img_height, img_width),\n",
    "    batch_size=batch_size)\n",
    "    "
   ]
  },
  {
   "cell_type": "code",
   "execution_count": null,
   "id": "c14315ba",
   "metadata": {},
   "outputs": [],
   "source": [
    "\n",
    "validation_ds = tf.keras.preprocessing.image_dataset_from_directory(\n",
    "    'New Plant Diseases Dataset(Augmented)/valid',\n",
    "    seed=42,\n",
    "    image_size=(img_height, img_width),\n",
    "    batch_size=batch_size)\n",
    "    "
   ]
  },
  {
   "cell_type": "code",
   "execution_count": null,
   "id": "95ec532b",
   "metadata": {},
   "outputs": [],
   "source": [
    "\n",
    "class_names = training_ds.class_names\n",
    "    "
   ]
  },
  {
   "cell_type": "code",
   "execution_count": null,
   "id": "c8291e8a",
   "metadata": {},
   "outputs": [],
   "source": [
    "\n",
    "MyCnn = tf.keras.models.Sequential([\n",
    "    layers.BatchNormalization(),\n",
    "    layers.Conv2D(32, 3, activation='relu'),\n",
    "    layers.MaxPooling2D(),\n",
    "    layers.Conv2D(64, 3, activation='relu'),\n",
    "    layers.MaxPooling2D(),\n",
    "    layers.Conv2D(128, 3, activation='relu'),\n",
    "    layers.MaxPooling2D(),\n",
    "    layers.Flatten(),\n",
    "    layers.Dense(256, activation='relu'),\n",
    "    layers.Dense(len(class_names), activation='softmax')\n",
    "])\n",
    "    "
   ]
  },
  {
   "cell_type": "code",
   "execution_count": null,
   "id": "5e23483a",
   "metadata": {},
   "outputs": [],
   "source": [
    "\n",
    "MyCnn.compile(optimizer='adam',\n",
    "              loss='sparse_categorical_crossentropy',\n",
    "              metrics=['accuracy'])\n",
    "    "
   ]
  },
  {
   "cell_type": "code",
   "execution_count": null,
   "id": "0567b126",
   "metadata": {},
   "outputs": [],
   "source": [
    "\n",
    "retVal = MyCnn.fit(training_ds, validation_data=validation_ds, epochs=2)\n",
    "    "
   ]
  },
  {
   "cell_type": "code",
   "execution_count": null,
   "id": "4fb99a55",
   "metadata": {},
   "outputs": [],
   "source": [
    "\n",
    "plt.plot(retVal.history['loss'], label='Training Loss')\n",
    "plt.plot(retVal.history['accuracy'], label='Training Accuracy')\n",
    "plt.legend()\n",
    "plt.title('Training Loss and Accuracy')\n",
    "plt.xlabel('Epochs')\n",
    "plt.ylabel('Value')\n",
    "plt.show()\n",
    "    "
   ]
  },
  {
   "cell_type": "code",
   "execution_count": null,
   "id": "e04d5b8f",
   "metadata": {},
   "outputs": [],
   "source": [
    "\n",
    "AccuracyVector = []\n",
    "plt.figure(figsize=(30, 30))\n",
    "for images, labels in validation_ds.take(1):\n",
    "    predictions = MyCnn.predict(images)\n",
    "    predlabel = []\n",
    "    prdlbl = []\n",
    "\n",
    "    for mem in predictions:\n",
    "        predlabel.append(class_names[np.argmax(mem)])\n",
    "        prdlbl.append(np.argmax(mem))\n",
    "\n",
    "    AccuracyVector = np.array(prdlbl) == labels\n",
    "\n",
    "    for i in range(40):\n",
    "        ax = plt.subplot(10, 4, i + 1)\n",
    "        plt.imshow(images[i].numpy().astype(\"uint8\"))\n",
    "        plt.title('Pred: ' + predlabel[i] + ' | Actual: ' + class_names[labels[i]])\n",
    "        plt.axis('off')\n",
    "        plt.grid(True)\n",
    "    "
   ]
  },
  {
   "cell_type": "code",
   "execution_count": null,
   "id": "b9592723",
   "metadata": {},
   "outputs": [],
   "source": [
    "\n",
    "plt.figure()\n",
    "plt.plot(retVal.history['val_loss'], label='Validation Loss')\n",
    "plt.plot(retVal.history['val_accuracy'], label='Validation Accuracy')\n",
    "plt.legend()\n",
    "plt.title('Validation Loss and Accuracy')\n",
    "plt.xlabel('Epochs')\n",
    "plt.ylabel('Value')\n",
    "plt.show()\n",
    "    "
   ]
  }
 ],
 "metadata": {},
 "nbformat": 4,
 "nbformat_minor": 5
}
